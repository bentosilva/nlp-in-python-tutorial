{
  "nbformat": 4,
  "nbformat_minor": 0,
  "metadata": {
    "colab": {
      "name": "Untitled3.ipynb",
      "provenance": [],
      "authorship_tag": "ABX9TyNNKge66pyVfnKLYHQBcn4U",
      "include_colab_link": true
    },
    "kernelspec": {
      "name": "python3",
      "display_name": "Python 3"
    }
  },
  "cells": [
    {
      "cell_type": "markdown",
      "metadata": {
        "id": "view-in-github",
        "colab_type": "text"
      },
      "source": [
        "<a href=\"https://colab.research.google.com/github/bentosilva/nlp-in-python-tutorial/blob/master/nlp_in_action.ipynb\" target=\"_parent\"><img src=\"https://colab.research.google.com/assets/colab-badge.svg\" alt=\"Open In Colab\"/></a>"
      ]
    },
    {
      "cell_type": "code",
      "metadata": {
        "id": "O07j9qxIu5VI",
        "colab_type": "code",
        "colab": {
          "base_uri": "https://localhost:8080/",
          "height": 307
        },
        "outputId": "16368266-c73b-436b-885c-ae30e47e7468"
      },
      "source": [
        "import numpy as np\n",
        "\n",
        "sentence = \"Thomas Jefferson began building Monticello at the age of 26.\"\n",
        "print(sentence.split())\n",
        "\n",
        "token_sequence = str.split(sentence)\n",
        "vocab = sorted(set(token_sequence))\n",
        "num_tokens = len(token_sequence)\n",
        "vocab_size = len(vocab)\n",
        "\n",
        "onehot_vectors = np.zeros((num_tokens, vocab_size), int)\n",
        "print(onehot_vectors)\n",
        "\n",
        "L = ['apples', 'bananas', 'oranges']\n",
        "for i, val in enumerate(L):\n",
        "  print(\"i is %d and val is %s\" % (i, val))\n",
        "\n",
        "for i, word in enumerate(token_sequence):\n",
        "  onehot_vectors[i, vocab.index(word)] = 1\n",
        "print(' '.join(vocab))\n",
        "\n",
        "\n",
        "\n"
      ],
      "execution_count": 1,
      "outputs": [
        {
          "output_type": "stream",
          "text": [
            "['Thomas', 'Jefferson', 'began', 'building', 'Monticello', 'at', 'the', 'age', 'of', '26.']\n",
            "[[0 0 0 0 0 0 0 0 0 0]\n",
            " [0 0 0 0 0 0 0 0 0 0]\n",
            " [0 0 0 0 0 0 0 0 0 0]\n",
            " [0 0 0 0 0 0 0 0 0 0]\n",
            " [0 0 0 0 0 0 0 0 0 0]\n",
            " [0 0 0 0 0 0 0 0 0 0]\n",
            " [0 0 0 0 0 0 0 0 0 0]\n",
            " [0 0 0 0 0 0 0 0 0 0]\n",
            " [0 0 0 0 0 0 0 0 0 0]\n",
            " [0 0 0 0 0 0 0 0 0 0]]\n",
            "i is 0 and val is apples\n",
            "i is 1 and val is bananas\n",
            "i is 2 and val is oranges\n",
            "26. Jefferson Monticello Thomas age at began building of the\n"
          ],
          "name": "stdout"
        }
      ]
    }
  ]
}